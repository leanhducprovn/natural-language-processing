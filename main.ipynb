{
 "cells": [
  {
   "cell_type": "markdown",
   "id": "2fe87763",
   "metadata": {},
   "source": [
    "# Xử lý ngôn ngữ tự nhiên thống kê để phân tích cảm xúc"
   ]
  },
  {
   "cell_type": "markdown",
   "id": "b5876c4c",
   "metadata": {},
   "source": [
    "## Làm sạch dữ liệu"
   ]
  },
  {
   "cell_type": "markdown",
   "id": "a7395d10",
   "metadata": {},
   "source": [
    "### Dữ liệu đầu vào"
   ]
  },
  {
   "cell_type": "code",
   "execution_count": 15,
   "id": "4822a9be",
   "metadata": {},
   "outputs": [],
   "source": [
    "raw_docs = [\n",
    "    \"Here are some very simple basic sentences.\", # Đây là một số câu cơ bản rất đơn giản.\n",
    "    \"They won’t be very interesting, I’m afraid.\", # Tôi e rằng chúng sẽ không thú vị cho lắm.\n",
    "    \"The point of these examples is to _learn how basic text \\ cleaning works_ on *very simple* data.\" # Mục đích của những ví dụ này là _tìm hiểu cách thức hoạt động của văn bản cơ bản \\ làm sạch_ trên dữ liệu *rất đơn giản*.\n",
    "]"
   ]
  },
  {
   "cell_type": "markdown",
   "id": "9604d545",
   "metadata": {},
   "source": [
    "Cài đặt nltk"
   ]
  },
  {
   "cell_type": "code",
   "execution_count": 12,
   "id": "a6b224b1",
   "metadata": {},
   "outputs": [
    {
     "name": "stderr",
     "output_type": "stream",
     "text": [
      "[nltk_data] Downloading package punkt to /Users/admin/nltk_data...\n",
      "[nltk_data]   Package punkt is already up-to-date!\n"
     ]
    },
    {
     "data": {
      "text/plain": [
       "True"
      ]
     },
     "execution_count": 12,
     "metadata": {},
     "output_type": "execute_result"
    }
   ],
   "source": [
    "import nltk\n",
    "nltk.download('punkt')"
   ]
  },
  {
   "cell_type": "markdown",
   "id": "05a28ee5",
   "metadata": {},
   "source": [
    "Chuyển đổi dữ liệu dưới dạng chuỗi thành vectơ từ"
   ]
  },
  {
   "cell_type": "code",
   "execution_count": 13,
   "id": "08f95f67",
   "metadata": {},
   "outputs": [
    {
     "name": "stdout",
     "output_type": "stream",
     "text": [
      "[['Here', 'are', 'some', 'very', 'simple', 'basic', 'sentences', '.'], ['They', 'won', '’', 't', 'be', 'very', 'interesting', ',', 'I', '’', 'm', 'afraid', '.'], ['The', 'point', 'of', 'these', 'examples', 'is', 'to', '_learn', 'how', 'basic', 'text', '\\\\', 'cleaning', 'works_', 'on', '*', 'very', 'simple', '*', 'data', '.']]\n"
     ]
    }
   ],
   "source": [
    "from nltk.tokenize import word_tokenize\n",
    "\n",
    "tokenized_docs = [word_tokenize(doc) for doc in raw_docs]\n",
    "print(tokenized_docs)"
   ]
  }
 ],
 "metadata": {
  "kernelspec": {
   "display_name": "Python 3 (ipykernel)",
   "language": "python",
   "name": "python3"
  },
  "language_info": {
   "codemirror_mode": {
    "name": "ipython",
    "version": 3
   },
   "file_extension": ".py",
   "mimetype": "text/x-python",
   "name": "python",
   "nbconvert_exporter": "python",
   "pygments_lexer": "ipython3",
   "version": "3.9.7"
  }
 },
 "nbformat": 4,
 "nbformat_minor": 5
}
