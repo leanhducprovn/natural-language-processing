{
 "cells": [
  {
   "cell_type": "markdown",
   "id": "2fe87763",
   "metadata": {},
   "source": [
    "# Xử lý ngôn ngữ tự nhiên thống kê để phân tích cảm xúc"
   ]
  },
  {
   "cell_type": "markdown",
   "id": "b5876c4c",
   "metadata": {},
   "source": [
    "## Làm sạch dữ liệu"
   ]
  },
  {
   "cell_type": "markdown",
   "id": "a7395d10",
   "metadata": {},
   "source": [
    "### Dữ liệu đầu vào"
   ]
  },
  {
   "cell_type": "code",
   "execution_count": 4,
   "id": "4822a9be",
   "metadata": {},
   "outputs": [],
   "source": [
    "raw_docs = [\n",
    "    \"Here are some very simple basic sentences.\",\n",
    "    \"They won’t be very interesting, I’m afraid.\",\n",
    "    \"The point of these examples is to _learn how basic text \\ cleaning works_ on *very simple* data.\"\n",
    "]"
   ]
  },
  {
   "cell_type": "code",
   "execution_count": null,
   "id": "08f95f67",
   "metadata": {},
   "outputs": [],
   "source": []
  }
 ],
 "metadata": {
  "kernelspec": {
   "display_name": "Python 3 (ipykernel)",
   "language": "python",
   "name": "python3"
  },
  "language_info": {
   "codemirror_mode": {
    "name": "ipython",
    "version": 3
   },
   "file_extension": ".py",
   "mimetype": "text/x-python",
   "name": "python",
   "nbconvert_exporter": "python",
   "pygments_lexer": "ipython3",
   "version": "3.9.7"
  }
 },
 "nbformat": 4,
 "nbformat_minor": 5
}
