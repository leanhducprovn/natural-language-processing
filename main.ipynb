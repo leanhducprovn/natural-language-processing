{
 "cells": [
  {
   "cell_type": "markdown",
   "id": "2fe87763",
   "metadata": {},
   "source": [
    "# Xử lý ngôn ngữ tự nhiên thống kê để phân tích cảm xúc"
   ]
  },
  {
   "cell_type": "markdown",
   "id": "b5876c4c",
   "metadata": {},
   "source": [
    "## Làm sạch dữ liệu"
   ]
  },
  {
   "cell_type": "markdown",
   "id": "a7395d10",
   "metadata": {},
   "source": [
    "Dữ liệu đầu vào"
   ]
  },
  {
   "cell_type": "code",
   "execution_count": 49,
   "id": "4822a9be",
   "metadata": {},
   "outputs": [],
   "source": [
    "raw_docs = [\n",
    "    \"Here are some very simple basic sentences.\", # Đây là một số câu cơ bản rất đơn giản.\n",
    "    \"They won’t be very interesting, I’m afraid.\", # Tôi e rằng chúng sẽ không thú vị cho lắm.\n",
    "    \"The point of these examples is to _learn how basic text \\ cleaning works_ on *very simple* data.\" # Mục đích của những ví dụ này là _tìm hiểu cách thức hoạt động của văn bản cơ bản \\ làm sạch_ trên dữ liệu *rất đơn giản*.\n",
    "]"
   ]
  },
  {
   "cell_type": "markdown",
   "id": "9604d545",
   "metadata": {},
   "source": [
    "Cài đặt NLTK"
   ]
  },
  {
   "cell_type": "code",
   "execution_count": 50,
   "id": "a6b224b1",
   "metadata": {},
   "outputs": [
    {
     "name": "stderr",
     "output_type": "stream",
     "text": [
      "[nltk_data] Downloading package punkt to /Users/admin/nltk_data...\n",
      "[nltk_data]   Package punkt is already up-to-date!\n"
     ]
    },
    {
     "data": {
      "text/plain": [
       "True"
      ]
     },
     "execution_count": 50,
     "metadata": {},
     "output_type": "execute_result"
    }
   ],
   "source": [
    "import nltk\n",
    "nltk.download('punkt')"
   ]
  },
  {
   "cell_type": "markdown",
   "id": "05a28ee5",
   "metadata": {},
   "source": [
    "Chuyển đổi dữ liệu dưới dạng chuỗi thành vectơ từ"
   ]
  },
  {
   "cell_type": "code",
   "execution_count": 51,
   "id": "08f95f67",
   "metadata": {},
   "outputs": [
    {
     "name": "stdout",
     "output_type": "stream",
     "text": [
      "[['Here', 'are', 'some', 'very', 'simple', 'basic', 'sentences', '.'], ['They', 'won', '’', 't', 'be', 'very', 'interesting', ',', 'I', '’', 'm', 'afraid', '.'], ['The', 'point', 'of', 'these', 'examples', 'is', 'to', '_learn', 'how', 'basic', 'text', '\\\\', 'cleaning', 'works_', 'on', '*', 'very', 'simple', '*', 'data', '.']]\n"
     ]
    }
   ],
   "source": [
    "from nltk.tokenize import word_tokenize\n",
    "\n",
    "tokenized_docs = [word_tokenize(doc) for doc in raw_docs]\n",
    "print(tokenized_docs)"
   ]
  },
  {
   "cell_type": "markdown",
   "id": "03a56c79",
   "metadata": {},
   "source": [
    "Tìm kiếm trong dữ liệu các ký hiệu dấu câu, ký tự đặc biệt và loại bỏ chúng"
   ]
  },
  {
   "cell_type": "code",
   "execution_count": 52,
   "id": "49680435",
   "metadata": {},
   "outputs": [
    {
     "data": {
      "text/plain": [
       "'!\"#$%&\\'()*+,-./:;<=>?@[\\\\]^_`{|}~'"
      ]
     },
     "execution_count": 52,
     "metadata": {},
     "output_type": "execute_result"
    }
   ],
   "source": [
    "import string\n",
    "string.punctuation"
   ]
  },
  {
   "cell_type": "code",
   "execution_count": 53,
   "id": "d9a83339",
   "metadata": {},
   "outputs": [
    {
     "name": "stdout",
     "output_type": "stream",
     "text": [
      "[['Here', 'are', 'some', 'very', 'simple', 'basic', 'sentences'], ['They', 'won', '’', 't', 'be', 'very', 'interesting', 'I', '’', 'm', 'afraid'], ['The', 'point', 'of', 'these', 'examples', 'is', 'to', 'learn', 'how', 'basic', 'text', 'cleaning', 'works', 'on', 'very', 'simple', 'data']]\n"
     ]
    }
   ],
   "source": [
    "import re\n",
    "import string\n",
    "regex = re.compile('[%s]' % re.escape(string.punctuation))\n",
    "tokenized_docs_no_punctuation = []\n",
    "for review in tokenized_docs:\n",
    "    new_review = []\n",
    "    for token in review:\n",
    "        new_token = regex.sub(u'', token)\n",
    "        if not new_token == u'':\n",
    "            new_review.append(new_token)\n",
    "    tokenized_docs_no_punctuation.append(new_review)\n",
    "print(tokenized_docs_no_punctuation)"
   ]
  },
  {
   "cell_type": "markdown",
   "id": "040cabe2",
   "metadata": {},
   "source": [
    "Tạo gốc và xác định gốc"
   ]
  },
  {
   "cell_type": "code",
   "execution_count": 54,
   "id": "a93626e5",
   "metadata": {},
   "outputs": [],
   "source": [
    "from nltk.stem.porter import PorterStemmer\n",
    "# from nltk.stem.snowball import SnowballStemmer\n",
    "# from nltk.stem.wordnet import WordNetLemmatizer\n",
    "porter = PorterStemmer()\n",
    "# snowball = SnowballStemmer(\"english\")\n",
    "# wordnet = WordNetLemmatizer()\n",
    "# each of the following commands perform stemming on word\n",
    "# porter.stem(word)\n",
    "# snowball.stem(word)\n",
    "# wordnet.lemmatize(word)"
   ]
  },
  {
   "cell_type": "markdown",
   "id": "9633dfc4",
   "metadata": {},
   "source": [
    "Một quy trình làm sạch dữ liệu rất hữu ích khác bao gồm xóa các thẻ và thực thể HTML"
   ]
  },
  {
   "cell_type": "code",
   "execution_count": 55,
   "id": "e0e4a3a0",
   "metadata": {},
   "outputs": [
    {
     "name": "stdout",
     "output_type": "stream",
     "text": [
      "Original text:\n",
      "<p>While many of the stories tugged at the heartstrings, I never felt manipulated by the authors. (Note: Part of the reason why I don’t like the ’Chicken Soup for the Soul’ series is that I feel that the authors are just dying to make the reader clutch for the box of tissues.)</a>\n",
      "Cleaned text:\n",
      "While many of the stories tugged at the heartstrings, I never felt manipulated by the authors. (Note: Part of the reason why I don’t like the ’Chicken Soup for the Soul’ series is that I feel that the authors are just dying to make the reader clutch for the box of tissues.)\n"
     ]
    }
   ],
   "source": [
    "import nltk\n",
    "from bs4 import BeautifulSoup\n",
    "test_string =\"<p>While many of the stories tugged at the heartstrings, I never felt manipulated by the authors. (Note: Part of the reason why I don’t like the ’Chicken Soup for the Soul’ series is that I feel that the authors are just dying to make the reader clutch for the box of tissues.)</a>\"\n",
    "soup = BeautifulSoup(test_string, 'html.parser')\n",
    "print(\"Original text:\")\n",
    "print(test_string)\n",
    "print(\"Cleaned text:\")\n",
    "print(soup.get_text())"
   ]
  },
  {
   "cell_type": "markdown",
   "id": "4c96895a",
   "metadata": {},
   "source": [
    "## Trình bày văn bản"
   ]
  },
  {
   "cell_type": "markdown",
   "id": "790eba3f",
   "metadata": {},
   "source": [
    "Ví dụ về biểu diễn BoW cho hai văn bản"
   ]
  },
  {
   "cell_type": "code",
   "execution_count": 57,
   "id": "88a159e7",
   "metadata": {},
   "outputs": [
    {
     "name": "stdout",
     "output_type": "stream",
     "text": [
      "dict_items([('Mireia', 1), ('loves', 2), ('me', 2), ('more', 1), ('than', 1), ('Hector', 1)])\n",
      "dict_items([('Sergio', 1), ('likes', 1), ('me', 2), ('more', 1), ('than', 1), ('Mireia', 1), ('loves', 1)])\n",
      "dict_items([('He', 1), ('likes', 1), ('basketball', 1), ('more', 1), ('than', 1), ('football', 1)])\n"
     ]
    }
   ],
   "source": [
    "mydoclist = [\n",
    "    'Mireia loves me more than Hector loves me',\n",
    "    'Sergio likes me more than Mireia loves me',\n",
    "    'He likes basketball more than football',\n",
    "]\n",
    "from collections import Counter\n",
    "for doc in mydoclist:\n",
    "    tf = Counter()\n",
    "    for word in doc.split():\n",
    "        tf[word] += 1\n",
    "    print(tf.items())"
   ]
  },
  {
   "cell_type": "code",
   "execution_count": null,
   "id": "f9410e31",
   "metadata": {},
   "outputs": [],
   "source": []
  }
 ],
 "metadata": {
  "kernelspec": {
   "display_name": "Python 3 (ipykernel)",
   "language": "python",
   "name": "python3"
  },
  "language_info": {
   "codemirror_mode": {
    "name": "ipython",
    "version": 3
   },
   "file_extension": ".py",
   "mimetype": "text/x-python",
   "name": "python",
   "nbconvert_exporter": "python",
   "pygments_lexer": "ipython3",
   "version": "3.9.7"
  }
 },
 "nbformat": 4,
 "nbformat_minor": 5
}
