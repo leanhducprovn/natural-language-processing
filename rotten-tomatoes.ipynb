{
  "cells": [
    {
      "cell_type": "markdown",
      "metadata": {
        "id": "view-in-github",
        "colab_type": "text"
      },
      "source": [
        "<a href=\"https://colab.research.google.com/github/leanhducprovn/natural-language-processing/blob/main/rotten-tomatoes.ipynb\" target=\"_parent\"><img src=\"https://colab.research.google.com/assets/colab-badge.svg\" alt=\"Open In Colab\"/></a>"
      ]
    },
    {
      "cell_type": "markdown",
      "metadata": {
        "id": "cHgbGkmaI0ZK"
      },
      "source": [
        "# Phân loại tình cảm của các câu từ tập dữ liệu Rotten Tomatoes"
      ]
    },
    {
      "cell_type": "markdown",
      "metadata": {
        "id": "SZ3uDwjGI0ZN"
      },
      "source": [
        "## Import modules"
      ]
    },
    {
      "cell_type": "code",
      "execution_count": 5,
      "metadata": {
        "id": "JKdWUU1fI0ZO"
      },
      "outputs": [],
      "source": [
        "import numpy as np\n",
        "import pandas as pd"
      ]
    },
    {
      "cell_type": "code",
      "execution_count": 6,
      "metadata": {
        "id": "3AnHN-RSI0ZP"
      },
      "outputs": [],
      "source": [
        "%matplotlib inline\n",
        "import matplotlib.pyplot as plt\n",
        "\n",
        "# package used to creat wordclouds\n",
        "from wordcloud import WordCloud, STOPWORDS, ImageColorGenerator"
      ]
    },
    {
      "cell_type": "code",
      "execution_count": 7,
      "metadata": {
        "id": "g5aDCmv9I0ZP"
      },
      "outputs": [],
      "source": [
        "# Scikit-learn is a free software machine learning library for the Python programming language.\n",
        "\n",
        "# Some classes help us to deal with data\n",
        "from sklearn.feature_extraction.text import TfidfVectorizer\n",
        "\n",
        "# Some classes help us to implement ML methods and evaluate models\n",
        "from sklearn.ensemble import RandomForestClassifier\n",
        "from sklearn.model_selection import cross_val_score, GridSearchCV, train_test_split"
      ]
    },
    {
      "cell_type": "code",
      "execution_count": 8,
      "metadata": {
        "id": "2J_UrCEdI0ZQ"
      },
      "outputs": [],
      "source": [
        "# Keras is a high-level neural networks API\n",
        "\n",
        "# Some classes help us to deal with data\n",
        "from keras.preprocessing.text import Tokenizer\n",
        "from keras.preprocessing.sequence import pad_sequences\n",
        "from keras.utils.np_utils import to_categorical"
      ]
    }
  ],
  "metadata": {
    "kernelspec": {
      "display_name": "Python 3 (ipykernel)",
      "language": "python",
      "name": "python3"
    },
    "language_info": {
      "codemirror_mode": {
        "name": "ipython",
        "version": 3
      },
      "file_extension": ".py",
      "mimetype": "text/x-python",
      "name": "python",
      "nbconvert_exporter": "python",
      "pygments_lexer": "ipython3",
      "version": "3.9.7"
    },
    "orig_nbformat": 4,
    "colab": {
      "name": "rotten-tomatoes.ipynb",
      "provenance": [],
      "include_colab_link": true
    }
  },
  "nbformat": 4,
  "nbformat_minor": 0
}